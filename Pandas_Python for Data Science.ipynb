{
 "cells": [
  {
   "cell_type": "code",
   "execution_count": 2,
   "metadata": {
    "id": "OB-m6jJBmkaT"
   },
   "outputs": [],
   "source": [
    "import numpy as np\n",
    "import pandas as pd"
   ]
  },
  {
   "cell_type": "markdown",
   "metadata": {
    "id": "VwR0qEv_mkaa"
   },
   "source": [
    "# 1. Data Structure\n",
    "## 1.1 <b> Pandas Series </b>\n",
    "- A 1-dimensional labeled array\n",
    "- Supports many data types\n",
    "- Axis labels $\\rightarrow$ index (get and set values by index label)\n",
    "- Valid argument to most NumPy\n",
    "methods"
   ]
  },
  {
   "cell_type": "code",
   "execution_count": 2,
   "metadata": {
    "id": "yXD_ryZ2mkad",
    "outputId": "6068f747-3d07-4acf-d0c5-6e50b31320ab"
   },
   "outputs": [
    {
     "data": {
      "text/plain": [
       "0    1.0\n",
       "1    2.0\n",
       "2    3.0\n",
       "3    4.0\n",
       "4    5.0\n",
       "5    6.0\n",
       "6    7.0\n",
       "7    8.0\n",
       "dtype: float64"
      ]
     },
     "execution_count": 2,
     "metadata": {},
     "output_type": "execute_result"
    }
   ],
   "source": [
    "data0 = pd.Series(data = [1,2,3.,4,5,6,7,8])\n",
    "data0"
   ]
  },
  {
   "cell_type": "code",
   "execution_count": 3,
   "metadata": {
    "id": "pHrqZNmZmkaf",
    "outputId": "39c14ee0-8c46-405a-a6bf-0da2be535461"
   },
   "outputs": [
    {
     "data": {
      "text/plain": [
       "a    1.0\n",
       "b    2.0\n",
       "c    3.0\n",
       "d    4.0\n",
       "e    5.0\n",
       "f    6.0\n",
       "g    7.0\n",
       "h    8.0\n",
       "a    9.0\n",
       "dtype: float64"
      ]
     },
     "execution_count": 3,
     "metadata": {},
     "output_type": "execute_result"
    }
   ],
   "source": [
    "#data1 = pd.Series(data = [1,2,3.,4,5,6,7,8], index = ['a', 'b', 'c', 'd', 'e', 'f', 'g', 'h'])\n",
    "data1 = pd.Series(data = [1,2,3.,4,5,6,7,8,9], index = ['a', 'b', 'c', 'd', 'e', 'f', 'g', 'h','a'])\n",
    "data1"
   ]
  },
  {
   "cell_type": "code",
   "execution_count": 4,
   "metadata": {
    "id": "NieUaS2Kmkag",
    "outputId": "5c3f8890-cc62-4aef-b197-4f9485059b23"
   },
   "outputs": [
    {
     "data": {
      "text/plain": [
       "Index(['a', 'b', 'c', 'd', 'e', 'f', 'g', 'h', 'a'], dtype='object')"
      ]
     },
     "execution_count": 4,
     "metadata": {},
     "output_type": "execute_result"
    }
   ],
   "source": [
    " data1.index\n",
    "# data1[4]\n",
    "# data1[[2,4,5]]\n",
    "# data1['a']\n",
    "# 'a' in data1\n",
    "# data1*3\n",
    "# data1**3\n",
    "# data1/2\n",
    "# data1"
   ]
  },
  {
   "cell_type": "markdown",
   "metadata": {
    "id": "TtMl97Spmkah"
   },
   "source": [
    "##  1.2. <b>DataFrame </b>\n",
    "- A 2-dimensional labeled data\n",
    "structure\n",
    "- A dictionary of Series objects\n",
    "    - Columns can be of potentially\n",
    "different types\n",
    "- Optionally parameters for fine-tuning:\n",
    "    - index (row labels)\n",
    "    - columns (column labels)\n",
    "\n",
    "Pandas provides many constructors to create DataFrames!"
   ]
  },
  {
   "cell_type": "code",
   "execution_count": 5,
   "metadata": {
    "id": "zitIBc63mkai",
    "outputId": "3168819c-1575-45f2-ae1e-40cbfe2083b3"
   },
   "outputs": [
    {
     "data": {
      "text/html": [
       "<div>\n",
       "<style scoped>\n",
       "    .dataframe tbody tr th:only-of-type {\n",
       "        vertical-align: middle;\n",
       "    }\n",
       "\n",
       "    .dataframe tbody tr th {\n",
       "        vertical-align: top;\n",
       "    }\n",
       "\n",
       "    .dataframe thead th {\n",
       "        text-align: right;\n",
       "    }\n",
       "</style>\n",
       "<table border=\"1\" class=\"dataframe\">\n",
       "  <thead>\n",
       "    <tr style=\"text-align: right;\">\n",
       "      <th></th>\n",
       "      <th>GradeS1</th>\n",
       "      <th>GradeS2</th>\n",
       "    </tr>\n",
       "  </thead>\n",
       "  <tbody>\n",
       "    <tr>\n",
       "      <th>Art</th>\n",
       "      <td>50.0</td>\n",
       "      <td>NaN</td>\n",
       "    </tr>\n",
       "    <tr>\n",
       "      <th>Biology</th>\n",
       "      <td>84.0</td>\n",
       "      <td>70.0</td>\n",
       "    </tr>\n",
       "    <tr>\n",
       "      <th>Economics</th>\n",
       "      <td>NaN</td>\n",
       "      <td>76.0</td>\n",
       "    </tr>\n",
       "    <tr>\n",
       "      <th>Finance</th>\n",
       "      <td>NaN</td>\n",
       "      <td>77.0</td>\n",
       "    </tr>\n",
       "    <tr>\n",
       "      <th>Geology</th>\n",
       "      <td>NaN</td>\n",
       "      <td>87.0</td>\n",
       "    </tr>\n",
       "    <tr>\n",
       "      <th>Maths</th>\n",
       "      <td>70.0</td>\n",
       "      <td>90.0</td>\n",
       "    </tr>\n",
       "    <tr>\n",
       "      <th>Physics</th>\n",
       "      <td>98.0</td>\n",
       "      <td>88.0</td>\n",
       "    </tr>\n",
       "    <tr>\n",
       "      <th>Sport</th>\n",
       "      <td>67.0</td>\n",
       "      <td>NaN</td>\n",
       "    </tr>\n",
       "    <tr>\n",
       "      <th>chemistry</th>\n",
       "      <td>NaN</td>\n",
       "      <td>78.0</td>\n",
       "    </tr>\n",
       "  </tbody>\n",
       "</table>\n",
       "</div>"
      ],
      "text/plain": [
       "           GradeS1  GradeS2\n",
       "Art           50.0      NaN\n",
       "Biology       84.0     70.0\n",
       "Economics      NaN     76.0\n",
       "Finance        NaN     77.0\n",
       "Geology        NaN     87.0\n",
       "Maths         70.0     90.0\n",
       "Physics       98.0     88.0\n",
       "Sport         67.0      NaN\n",
       "chemistry      NaN     78.0"
      ]
     },
     "execution_count": 5,
     "metadata": {},
     "output_type": "execute_result"
    }
   ],
   "source": [
    "data2 = {'GradeS1': pd.Series(data = [70,50,67,84,98], \n",
    "                              index = ['Maths', 'Art', 'Sport', 'Biology', 'Physics']),\n",
    "         'GradeS2': pd.Series(data = [90,70,88,78,76,77,87], \n",
    "                              index = ['Maths', 'Biology', 'Physics', 'chemistry', 'Economics', 'Finance', 'Geology'])}\n",
    "data2 = pd.DataFrame(data2)\n",
    "data2"
   ]
  },
  {
   "cell_type": "code",
   "execution_count": 6,
   "metadata": {
    "id": "Fh5kU4KVmkak",
    "outputId": "b0962dba-5d41-45dc-841d-8d324673cd1d"
   },
   "outputs": [
    {
     "data": {
      "text/plain": [
       "Index(['GradeS1', 'GradeS2'], dtype='object')"
      ]
     },
     "execution_count": 6,
     "metadata": {},
     "output_type": "execute_result"
    }
   ],
   "source": [
    "data2.index\n",
    "data2.columns"
   ]
  },
  {
   "cell_type": "code",
   "execution_count": 7,
   "metadata": {
    "id": "-C2QUKYCmkal",
    "outputId": "c90e63cd-3c49-41df-b1ef-95489ac54d5f"
   },
   "outputs": [
    {
     "data": {
      "text/html": [
       "<div>\n",
       "<style scoped>\n",
       "    .dataframe tbody tr th:only-of-type {\n",
       "        vertical-align: middle;\n",
       "    }\n",
       "\n",
       "    .dataframe tbody tr th {\n",
       "        vertical-align: top;\n",
       "    }\n",
       "\n",
       "    .dataframe thead th {\n",
       "        text-align: right;\n",
       "    }\n",
       "</style>\n",
       "<table border=\"1\" class=\"dataframe\">\n",
       "  <thead>\n",
       "    <tr style=\"text-align: right;\">\n",
       "      <th></th>\n",
       "      <th>GradeS1</th>\n",
       "      <th>GradeS2</th>\n",
       "    </tr>\n",
       "  </thead>\n",
       "  <tbody>\n",
       "    <tr>\n",
       "      <th>Maths</th>\n",
       "      <td>70.0</td>\n",
       "      <td>90.0</td>\n",
       "    </tr>\n",
       "    <tr>\n",
       "      <th>Physics</th>\n",
       "      <td>98.0</td>\n",
       "      <td>88.0</td>\n",
       "    </tr>\n",
       "    <tr>\n",
       "      <th>Economics</th>\n",
       "      <td>NaN</td>\n",
       "      <td>76.0</td>\n",
       "    </tr>\n",
       "  </tbody>\n",
       "</table>\n",
       "</div>"
      ],
      "text/plain": [
       "           GradeS1  GradeS2\n",
       "Maths         70.0     90.0\n",
       "Physics       98.0     88.0\n",
       "Economics      NaN     76.0"
      ]
     },
     "execution_count": 7,
     "metadata": {},
     "output_type": "execute_result"
    }
   ],
   "source": [
    "d= pd.DataFrame(data2,index=['Maths', 'Physics','Economics'])#Create another data frame with some index of data2\n",
    "d"
   ]
  },
  {
   "cell_type": "code",
   "execution_count": 8,
   "metadata": {
    "id": "mpdhk-c8mkam",
    "outputId": "b212e309-7646-4d9c-9a9b-77bd8d21807c"
   },
   "outputs": [
    {
     "data": {
      "text/html": [
       "<div>\n",
       "<style scoped>\n",
       "    .dataframe tbody tr th:only-of-type {\n",
       "        vertical-align: middle;\n",
       "    }\n",
       "\n",
       "    .dataframe tbody tr th {\n",
       "        vertical-align: top;\n",
       "    }\n",
       "\n",
       "    .dataframe thead th {\n",
       "        text-align: right;\n",
       "    }\n",
       "</style>\n",
       "<table border=\"1\" class=\"dataframe\">\n",
       "  <thead>\n",
       "    <tr style=\"text-align: right;\">\n",
       "      <th></th>\n",
       "      <th>Grade12</th>\n",
       "      <th>GradeS2</th>\n",
       "      <th>GradeS1</th>\n",
       "    </tr>\n",
       "  </thead>\n",
       "  <tbody>\n",
       "    <tr>\n",
       "      <th>Maths</th>\n",
       "      <td>NaN</td>\n",
       "      <td>90.0</td>\n",
       "      <td>70.0</td>\n",
       "    </tr>\n",
       "    <tr>\n",
       "      <th>Physics</th>\n",
       "      <td>NaN</td>\n",
       "      <td>88.0</td>\n",
       "      <td>98.0</td>\n",
       "    </tr>\n",
       "    <tr>\n",
       "      <th>Economics</th>\n",
       "      <td>NaN</td>\n",
       "      <td>76.0</td>\n",
       "      <td>NaN</td>\n",
       "    </tr>\n",
       "    <tr>\n",
       "      <th>elvira</th>\n",
       "      <td>NaN</td>\n",
       "      <td>NaN</td>\n",
       "      <td>NaN</td>\n",
       "    </tr>\n",
       "  </tbody>\n",
       "</table>\n",
       "</div>"
      ],
      "text/plain": [
       "           Grade12  GradeS2  GradeS1\n",
       "Maths          NaN     90.0     70.0\n",
       "Physics        NaN     88.0     98.0\n",
       "Economics      NaN     76.0      NaN\n",
       "elvira         NaN      NaN      NaN"
      ]
     },
     "execution_count": 8,
     "metadata": {},
     "output_type": "execute_result"
    }
   ],
   "source": [
    "d= pd.DataFrame(data2,index=['Maths', 'Physics','Economics', 'elvira'], \n",
    "                columns= ('Grade12', 'GradeS2','GradeS1'))\n",
    "d"
   ]
  },
  {
   "cell_type": "markdown",
   "metadata": {
    "id": "C9ZawL8_mkam"
   },
   "source": [
    "# 2. Reading and Writing Data\n",
    "\n",
    "## 2.1 <b> pandas: Data Ingestion (Reading) </b>\n",
    "- Functions such as <font color = red> ‘read_excel’, ‘read_csv’, 'read_json', 'read_html', 'read_sql_query', 'read_sql_table' </b>, etc.\n",
    "\n",
    "<b> Syntax: pandas.function(file_directory) </b>"
   ]
  },
  {
   "cell_type": "code",
   "execution_count": 9,
   "metadata": {
    "id": "mbn_bRXcmkao",
    "outputId": "95c920b7-0405-43f4-99c6-53f6b44eef04"
   },
   "outputs": [
    {
     "ename": "FileNotFoundError",
     "evalue": "[Errno 2] No such file or directory: 'Climate_Dynamics.xlsx'",
     "output_type": "error",
     "traceback": [
      "\u001b[1;31m---------------------------------------------------------------------------\u001b[0m",
      "\u001b[1;31mFileNotFoundError\u001b[0m                         Traceback (most recent call last)",
      "\u001b[1;32m<ipython-input-9-97a96acff967>\u001b[0m in \u001b[0;36m<module>\u001b[1;34m\u001b[0m\n\u001b[1;32m----> 1\u001b[1;33m \u001b[0mddat\u001b[0m \u001b[1;33m=\u001b[0m \u001b[0mpd\u001b[0m\u001b[1;33m.\u001b[0m\u001b[0mread_excel\u001b[0m\u001b[1;33m(\u001b[0m\u001b[1;34m'Climate_Dynamics.xlsx'\u001b[0m\u001b[1;33m)\u001b[0m\u001b[1;33m\u001b[0m\u001b[1;33m\u001b[0m\u001b[0m\n\u001b[0m\u001b[0;32m      2\u001b[0m \u001b[0mddat\u001b[0m\u001b[1;33m\u001b[0m\u001b[1;33m\u001b[0m\u001b[0m\n\u001b[0;32m      3\u001b[0m \u001b[0mddat\u001b[0m\u001b[1;33m.\u001b[0m\u001b[0mhead\u001b[0m\u001b[1;33m(\u001b[0m\u001b[1;33m)\u001b[0m\u001b[1;33m\u001b[0m\u001b[1;33m\u001b[0m\u001b[0m\n\u001b[0;32m      4\u001b[0m \u001b[0mddat\u001b[0m\u001b[1;33m.\u001b[0m\u001b[0mhead\u001b[0m\u001b[1;33m(\u001b[0m\u001b[1;36m3\u001b[0m\u001b[1;33m)\u001b[0m\u001b[1;33m\u001b[0m\u001b[1;33m\u001b[0m\u001b[0m\n\u001b[0;32m      5\u001b[0m \u001b[0mddat\u001b[0m\u001b[1;33m.\u001b[0m\u001b[0mtail\u001b[0m\u001b[1;33m(\u001b[0m\u001b[1;33m)\u001b[0m\u001b[1;33m\u001b[0m\u001b[1;33m\u001b[0m\u001b[0m\n",
      "\u001b[1;32mC:\\ProgramData\\Anaconda3\\lib\\site-packages\\pandas\\io\\excel\\_base.py\u001b[0m in \u001b[0;36mread_excel\u001b[1;34m(io, sheet_name, header, names, index_col, usecols, squeeze, dtype, engine, converters, true_values, false_values, skiprows, nrows, na_values, keep_default_na, verbose, parse_dates, date_parser, thousands, comment, skipfooter, convert_float, mangle_dupe_cols, **kwds)\u001b[0m\n\u001b[0;32m    302\u001b[0m \u001b[1;33m\u001b[0m\u001b[0m\n\u001b[0;32m    303\u001b[0m     \u001b[1;32mif\u001b[0m \u001b[1;32mnot\u001b[0m \u001b[0misinstance\u001b[0m\u001b[1;33m(\u001b[0m\u001b[0mio\u001b[0m\u001b[1;33m,\u001b[0m \u001b[0mExcelFile\u001b[0m\u001b[1;33m)\u001b[0m\u001b[1;33m:\u001b[0m\u001b[1;33m\u001b[0m\u001b[1;33m\u001b[0m\u001b[0m\n\u001b[1;32m--> 304\u001b[1;33m         \u001b[0mio\u001b[0m \u001b[1;33m=\u001b[0m \u001b[0mExcelFile\u001b[0m\u001b[1;33m(\u001b[0m\u001b[0mio\u001b[0m\u001b[1;33m,\u001b[0m \u001b[0mengine\u001b[0m\u001b[1;33m=\u001b[0m\u001b[0mengine\u001b[0m\u001b[1;33m)\u001b[0m\u001b[1;33m\u001b[0m\u001b[1;33m\u001b[0m\u001b[0m\n\u001b[0m\u001b[0;32m    305\u001b[0m     \u001b[1;32melif\u001b[0m \u001b[0mengine\u001b[0m \u001b[1;32mand\u001b[0m \u001b[0mengine\u001b[0m \u001b[1;33m!=\u001b[0m \u001b[0mio\u001b[0m\u001b[1;33m.\u001b[0m\u001b[0mengine\u001b[0m\u001b[1;33m:\u001b[0m\u001b[1;33m\u001b[0m\u001b[1;33m\u001b[0m\u001b[0m\n\u001b[0;32m    306\u001b[0m         raise ValueError(\n",
      "\u001b[1;32mC:\\ProgramData\\Anaconda3\\lib\\site-packages\\pandas\\io\\excel\\_base.py\u001b[0m in \u001b[0;36m__init__\u001b[1;34m(self, io, engine)\u001b[0m\n\u001b[0;32m    822\u001b[0m         \u001b[0mself\u001b[0m\u001b[1;33m.\u001b[0m\u001b[0m_io\u001b[0m \u001b[1;33m=\u001b[0m \u001b[0mstringify_path\u001b[0m\u001b[1;33m(\u001b[0m\u001b[0mio\u001b[0m\u001b[1;33m)\u001b[0m\u001b[1;33m\u001b[0m\u001b[1;33m\u001b[0m\u001b[0m\n\u001b[0;32m    823\u001b[0m \u001b[1;33m\u001b[0m\u001b[0m\n\u001b[1;32m--> 824\u001b[1;33m         \u001b[0mself\u001b[0m\u001b[1;33m.\u001b[0m\u001b[0m_reader\u001b[0m \u001b[1;33m=\u001b[0m \u001b[0mself\u001b[0m\u001b[1;33m.\u001b[0m\u001b[0m_engines\u001b[0m\u001b[1;33m[\u001b[0m\u001b[0mengine\u001b[0m\u001b[1;33m]\u001b[0m\u001b[1;33m(\u001b[0m\u001b[0mself\u001b[0m\u001b[1;33m.\u001b[0m\u001b[0m_io\u001b[0m\u001b[1;33m)\u001b[0m\u001b[1;33m\u001b[0m\u001b[1;33m\u001b[0m\u001b[0m\n\u001b[0m\u001b[0;32m    825\u001b[0m \u001b[1;33m\u001b[0m\u001b[0m\n\u001b[0;32m    826\u001b[0m     \u001b[1;32mdef\u001b[0m \u001b[0m__fspath__\u001b[0m\u001b[1;33m(\u001b[0m\u001b[0mself\u001b[0m\u001b[1;33m)\u001b[0m\u001b[1;33m:\u001b[0m\u001b[1;33m\u001b[0m\u001b[1;33m\u001b[0m\u001b[0m\n",
      "\u001b[1;32mC:\\ProgramData\\Anaconda3\\lib\\site-packages\\pandas\\io\\excel\\_xlrd.py\u001b[0m in \u001b[0;36m__init__\u001b[1;34m(self, filepath_or_buffer)\u001b[0m\n\u001b[0;32m     19\u001b[0m         \u001b[0merr_msg\u001b[0m \u001b[1;33m=\u001b[0m \u001b[1;34m\"Install xlrd >= 1.0.0 for Excel support\"\u001b[0m\u001b[1;33m\u001b[0m\u001b[1;33m\u001b[0m\u001b[0m\n\u001b[0;32m     20\u001b[0m         \u001b[0mimport_optional_dependency\u001b[0m\u001b[1;33m(\u001b[0m\u001b[1;34m\"xlrd\"\u001b[0m\u001b[1;33m,\u001b[0m \u001b[0mextra\u001b[0m\u001b[1;33m=\u001b[0m\u001b[0merr_msg\u001b[0m\u001b[1;33m)\u001b[0m\u001b[1;33m\u001b[0m\u001b[1;33m\u001b[0m\u001b[0m\n\u001b[1;32m---> 21\u001b[1;33m         \u001b[0msuper\u001b[0m\u001b[1;33m(\u001b[0m\u001b[1;33m)\u001b[0m\u001b[1;33m.\u001b[0m\u001b[0m__init__\u001b[0m\u001b[1;33m(\u001b[0m\u001b[0mfilepath_or_buffer\u001b[0m\u001b[1;33m)\u001b[0m\u001b[1;33m\u001b[0m\u001b[1;33m\u001b[0m\u001b[0m\n\u001b[0m\u001b[0;32m     22\u001b[0m \u001b[1;33m\u001b[0m\u001b[0m\n\u001b[0;32m     23\u001b[0m     \u001b[1;33m@\u001b[0m\u001b[0mproperty\u001b[0m\u001b[1;33m\u001b[0m\u001b[1;33m\u001b[0m\u001b[0m\n",
      "\u001b[1;32mC:\\ProgramData\\Anaconda3\\lib\\site-packages\\pandas\\io\\excel\\_base.py\u001b[0m in \u001b[0;36m__init__\u001b[1;34m(self, filepath_or_buffer)\u001b[0m\n\u001b[0;32m    351\u001b[0m             \u001b[0mself\u001b[0m\u001b[1;33m.\u001b[0m\u001b[0mbook\u001b[0m \u001b[1;33m=\u001b[0m \u001b[0mself\u001b[0m\u001b[1;33m.\u001b[0m\u001b[0mload_workbook\u001b[0m\u001b[1;33m(\u001b[0m\u001b[0mfilepath_or_buffer\u001b[0m\u001b[1;33m)\u001b[0m\u001b[1;33m\u001b[0m\u001b[1;33m\u001b[0m\u001b[0m\n\u001b[0;32m    352\u001b[0m         \u001b[1;32melif\u001b[0m \u001b[0misinstance\u001b[0m\u001b[1;33m(\u001b[0m\u001b[0mfilepath_or_buffer\u001b[0m\u001b[1;33m,\u001b[0m \u001b[0mstr\u001b[0m\u001b[1;33m)\u001b[0m\u001b[1;33m:\u001b[0m\u001b[1;33m\u001b[0m\u001b[1;33m\u001b[0m\u001b[0m\n\u001b[1;32m--> 353\u001b[1;33m             \u001b[0mself\u001b[0m\u001b[1;33m.\u001b[0m\u001b[0mbook\u001b[0m \u001b[1;33m=\u001b[0m \u001b[0mself\u001b[0m\u001b[1;33m.\u001b[0m\u001b[0mload_workbook\u001b[0m\u001b[1;33m(\u001b[0m\u001b[0mfilepath_or_buffer\u001b[0m\u001b[1;33m)\u001b[0m\u001b[1;33m\u001b[0m\u001b[1;33m\u001b[0m\u001b[0m\n\u001b[0m\u001b[0;32m    354\u001b[0m         \u001b[1;32melif\u001b[0m \u001b[0misinstance\u001b[0m\u001b[1;33m(\u001b[0m\u001b[0mfilepath_or_buffer\u001b[0m\u001b[1;33m,\u001b[0m \u001b[0mbytes\u001b[0m\u001b[1;33m)\u001b[0m\u001b[1;33m:\u001b[0m\u001b[1;33m\u001b[0m\u001b[1;33m\u001b[0m\u001b[0m\n\u001b[0;32m    355\u001b[0m             \u001b[0mself\u001b[0m\u001b[1;33m.\u001b[0m\u001b[0mbook\u001b[0m \u001b[1;33m=\u001b[0m \u001b[0mself\u001b[0m\u001b[1;33m.\u001b[0m\u001b[0mload_workbook\u001b[0m\u001b[1;33m(\u001b[0m\u001b[0mBytesIO\u001b[0m\u001b[1;33m(\u001b[0m\u001b[0mfilepath_or_buffer\u001b[0m\u001b[1;33m)\u001b[0m\u001b[1;33m)\u001b[0m\u001b[1;33m\u001b[0m\u001b[1;33m\u001b[0m\u001b[0m\n",
      "\u001b[1;32mC:\\ProgramData\\Anaconda3\\lib\\site-packages\\pandas\\io\\excel\\_xlrd.py\u001b[0m in \u001b[0;36mload_workbook\u001b[1;34m(self, filepath_or_buffer)\u001b[0m\n\u001b[0;32m     34\u001b[0m             \u001b[1;32mreturn\u001b[0m \u001b[0mopen_workbook\u001b[0m\u001b[1;33m(\u001b[0m\u001b[0mfile_contents\u001b[0m\u001b[1;33m=\u001b[0m\u001b[0mdata\u001b[0m\u001b[1;33m)\u001b[0m\u001b[1;33m\u001b[0m\u001b[1;33m\u001b[0m\u001b[0m\n\u001b[0;32m     35\u001b[0m         \u001b[1;32melse\u001b[0m\u001b[1;33m:\u001b[0m\u001b[1;33m\u001b[0m\u001b[1;33m\u001b[0m\u001b[0m\n\u001b[1;32m---> 36\u001b[1;33m             \u001b[1;32mreturn\u001b[0m \u001b[0mopen_workbook\u001b[0m\u001b[1;33m(\u001b[0m\u001b[0mfilepath_or_buffer\u001b[0m\u001b[1;33m)\u001b[0m\u001b[1;33m\u001b[0m\u001b[1;33m\u001b[0m\u001b[0m\n\u001b[0m\u001b[0;32m     37\u001b[0m \u001b[1;33m\u001b[0m\u001b[0m\n\u001b[0;32m     38\u001b[0m     \u001b[1;33m@\u001b[0m\u001b[0mproperty\u001b[0m\u001b[1;33m\u001b[0m\u001b[1;33m\u001b[0m\u001b[0m\n",
      "\u001b[1;32mC:\\ProgramData\\Anaconda3\\lib\\site-packages\\xlrd\\__init__.py\u001b[0m in \u001b[0;36mopen_workbook\u001b[1;34m(filename, logfile, verbosity, use_mmap, file_contents, encoding_override, formatting_info, on_demand, ragged_rows)\u001b[0m\n\u001b[0;32m    109\u001b[0m     \u001b[1;32melse\u001b[0m\u001b[1;33m:\u001b[0m\u001b[1;33m\u001b[0m\u001b[1;33m\u001b[0m\u001b[0m\n\u001b[0;32m    110\u001b[0m         \u001b[0mfilename\u001b[0m \u001b[1;33m=\u001b[0m \u001b[0mos\u001b[0m\u001b[1;33m.\u001b[0m\u001b[0mpath\u001b[0m\u001b[1;33m.\u001b[0m\u001b[0mexpanduser\u001b[0m\u001b[1;33m(\u001b[0m\u001b[0mfilename\u001b[0m\u001b[1;33m)\u001b[0m\u001b[1;33m\u001b[0m\u001b[1;33m\u001b[0m\u001b[0m\n\u001b[1;32m--> 111\u001b[1;33m         \u001b[1;32mwith\u001b[0m \u001b[0mopen\u001b[0m\u001b[1;33m(\u001b[0m\u001b[0mfilename\u001b[0m\u001b[1;33m,\u001b[0m \u001b[1;34m\"rb\"\u001b[0m\u001b[1;33m)\u001b[0m \u001b[1;32mas\u001b[0m \u001b[0mf\u001b[0m\u001b[1;33m:\u001b[0m\u001b[1;33m\u001b[0m\u001b[1;33m\u001b[0m\u001b[0m\n\u001b[0m\u001b[0;32m    112\u001b[0m             \u001b[0mpeek\u001b[0m \u001b[1;33m=\u001b[0m \u001b[0mf\u001b[0m\u001b[1;33m.\u001b[0m\u001b[0mread\u001b[0m\u001b[1;33m(\u001b[0m\u001b[0mpeeksz\u001b[0m\u001b[1;33m)\u001b[0m\u001b[1;33m\u001b[0m\u001b[1;33m\u001b[0m\u001b[0m\n\u001b[0;32m    113\u001b[0m     \u001b[1;32mif\u001b[0m \u001b[0mpeek\u001b[0m \u001b[1;33m==\u001b[0m \u001b[1;34mb\"PK\\x03\\x04\"\u001b[0m\u001b[1;33m:\u001b[0m \u001b[1;31m# a ZIP file\u001b[0m\u001b[1;33m\u001b[0m\u001b[1;33m\u001b[0m\u001b[0m\n",
      "\u001b[1;31mFileNotFoundError\u001b[0m: [Errno 2] No such file or directory: 'Climate_Dynamics.xlsx'"
     ]
    }
   ],
   "source": [
    "ddat = pd.read_excel('Climate_Dynamics.xlsx')\n",
    "ddat\n",
    "ddat.head()\n",
    "ddat.head(3)\n",
    "ddat.tail()"
   ]
  },
  {
   "cell_type": "code",
   "execution_count": null,
   "metadata": {
    "id": "DHiEe0fQmkap",
    "outputId": "3bba4d47-492d-4694-ac90-97a6f384ddf4"
   },
   "outputs": [],
   "source": [
    "ddatt = pd.ExcelFile('DefenseSchedule2020forTutors.xlsx')\n",
    "sheet1_df = pd.read_excel(ddatt, 'For Examiners ')\n",
    "sheet2_df = pd.read_excel(ddatt, 'For Tutors ')\n",
    "sheet1_df.head(2)\n",
    "# sheet2_df.head(3)"
   ]
  },
  {
   "cell_type": "code",
   "execution_count": null,
   "metadata": {
    "id": "ZMbFMqNdmkap",
    "outputId": "05724d8a-a944-4030-8867-b129a875580e"
   },
   "outputs": [],
   "source": [
    "df = pd.read_json(\"https://data.smcgov.org/resource/mb6a-xn89.json\")#JavaScript Object Notation\n",
    "df.head()"
   ]
  },
  {
   "cell_type": "code",
   "execution_count": null,
   "metadata": {
    "id": "lQbf-N9Gmkaq",
    "outputId": "b9c7a2c3-cc3f-4a39-b731-ca3be8658d6e"
   },
   "outputs": [],
   "source": [
    "data = pd.read_csv('https://archive.ics.uci.edu/ml/machine-learning-databases/breast-cancer-wisconsin/breast-cancer-wisconsin.data')\n",
    "data.head()"
   ]
  },
  {
   "cell_type": "code",
   "execution_count": null,
   "metadata": {},
   "outputs": [],
   "source": [
    "data = pd.read_csv('https://archive.ics.uci.edu/ml/machine-learning-databases/auto-mpg/auto-mpg.data')\n",
    "data.head()"
   ]
  },
  {
   "cell_type": "markdown",
   "metadata": {
    "id": "Xz99AxdSmkar"
   },
   "source": [
    "## 2.2. Data writing\n",
    "\n",
    "Save the dataframe in the current directory"
   ]
  },
  {
   "cell_type": "code",
   "execution_count": null,
   "metadata": {
    "id": "pTDynk6Qmkar",
    "outputId": "4b0ed87b-1c41-4648-8323-68cd6d0ec0ae"
   },
   "outputs": [],
   "source": [
    "#create a dataframe\n",
    "data2 = {'GradeS1': pd.Series(data = [70,50,67,84,98], \n",
    "                              index = ['Maths', 'Art', 'Sport', 'Biology', 'Physics']),\n",
    "         'GradeS2': pd.Series(data = [90,70,88,78,76,77,87], \n",
    "                              index = ['Maths', 'Biology', 'Physics', 'chemistry', 'Economics', 'Finance', 'Geology'])}\n",
    "data2 = pd.DataFrame(data2)\n",
    "#==========================================\n",
    "# index = False parameter will not write the index values, default is True\n",
    "#data2.to_csv('data_new.csv', index=True)\n",
    "#data2.to_csv('data_new.txt', sep='\\t', index=True)\n",
    "# data2.to_excel('data_new.xlsx',sheet_name='Sheet1', index = False)\n",
    "data2.head()"
   ]
  },
  {
   "cell_type": "markdown",
   "metadata": {
    "id": "42fEUH03mkat"
   },
   "source": [
    "<b>Create a folder in the current directory and save the dataframe inside</b>"
   ]
  },
  {
   "cell_type": "code",
   "execution_count": null,
   "metadata": {
    "id": "aj2eoWxCmkat"
   },
   "outputs": [],
   "source": [
    "#==============================================\n",
    "# create a folder if it not exists\n",
    "Name_of_folder = 'dbasc'\n",
    "import os\n",
    "if not os.path.exists(Name_of_folder):\n",
    "    os.makedirs(Name_of_folder)\n",
    "#==============================================\n",
    "# index = False parameter will not write the index values, default is True\n",
    "data2.to_csv(Name_of_folder+'/data_new.csv', index=False)\n",
    "# data2.to_csv(Name_of_folder+'/mtcars_new.txt', sep='\\t', index=False)\n",
    "# data2.to_excel(Name_of_folder+'/mtcars_new.xlsx',sheet_name='Sheet1', index = False)"
   ]
  },
  {
   "cell_type": "code",
   "execution_count": null,
   "metadata": {
    "id": "7MM7U97-mkau",
    "outputId": "3322a26f-b09f-4c30-c668-52e8533cfb07"
   },
   "outputs": [],
   "source": [
    "data1"
   ]
  },
  {
   "cell_type": "markdown",
   "metadata": {
    "id": "pttXZ7gxmkav"
   },
   "source": [
    "# 3. Basic Statistics Summary\n",
    "<b> pandas in Descriptive Statistics </b>\n",
    "Functions such as 'describe()', 'corr()', 'min()', 'max()', 'mode()', 'median()', 'std()', etc.\n",
    "\n",
    "<b> Syntax : data_frame.function() </b>"
   ]
  },
  {
   "cell_type": "code",
   "execution_count": null,
   "metadata": {
    "id": "h7_ZedY8mkav",
    "outputId": "8e53c3d2-c8d6-4fba-fb8b-664366b70861"
   },
   "outputs": [],
   "source": [
    "#data1\n",
    "data1.describe()"
   ]
  },
  {
   "cell_type": "code",
   "execution_count": null,
   "metadata": {
    "id": "y04j45wjmkaw",
    "outputId": "789bf698-8774-45ff-d948-18f575d699e7"
   },
   "outputs": [],
   "source": [
    "data2"
   ]
  },
  {
   "cell_type": "code",
   "execution_count": null,
   "metadata": {
    "id": "OixDyocimkax",
    "outputId": "3e003216-3e60-479e-908e-319d93070de7"
   },
   "outputs": [],
   "source": [
    "data2.describe()"
   ]
  },
  {
   "cell_type": "code",
   "execution_count": null,
   "metadata": {
    "id": "oM6XLcf4mkay",
    "outputId": "92a46389-0c08-4532-82ce-79a7e23f57e3"
   },
   "outputs": [],
   "source": [
    "data2.loc['Maths',:].describe()"
   ]
  },
  {
   "cell_type": "code",
   "execution_count": null,
   "metadata": {
    "id": "wVSy9Z5umkay",
    "outputId": "199bc443-8120-4567-cab4-b8680bfeb26d"
   },
   "outputs": [],
   "source": [
    "data2.corr()"
   ]
  },
  {
   "cell_type": "code",
   "execution_count": null,
   "metadata": {
    "id": "EcLdlxX6mkaz",
    "outputId": "ab2996be-ba0a-4067-8fac-96c407ed65cf"
   },
   "outputs": [],
   "source": [
    "data2.max()"
   ]
  },
  {
   "cell_type": "code",
   "execution_count": null,
   "metadata": {
    "id": "EGzudCwNmka0",
    "outputId": "79a591eb-fde7-47a2-f376-091bb4eb21fa"
   },
   "outputs": [],
   "source": [
    "data2.cov()"
   ]
  },
  {
   "cell_type": "code",
   "execution_count": null,
   "metadata": {
    "id": "HXrIy_r-mka7",
    "outputId": "8798d111-db8c-4a69-8c03-d331a6f3df88"
   },
   "outputs": [],
   "source": [
    "data2.std()"
   ]
  },
  {
   "cell_type": "code",
   "execution_count": null,
   "metadata": {
    "id": "N8r7hYdPmka7",
    "outputId": "5aa9b8d7-df23-4aa7-cc36-a7a9535c51e8"
   },
   "outputs": [],
   "source": [
    "data2.mean()"
   ]
  },
  {
   "cell_type": "code",
   "execution_count": null,
   "metadata": {
    "id": "3vPnQIIUmka8",
    "outputId": "a796715f-bf8b-43f9-98a4-818ba5c9c036"
   },
   "outputs": [],
   "source": [
    "df.head()"
   ]
  },
  {
   "cell_type": "markdown",
   "metadata": {
    "id": "ZCmtB1RWmka8"
   },
   "source": [
    "# 4. Viewing Data"
   ]
  },
  {
   "cell_type": "code",
   "execution_count": 3,
   "metadata": {
    "id": "zLnJO6pemka9",
    "outputId": "cf2f08e0-395f-47ac-af02-b31a72e3df04"
   },
   "outputs": [
    {
     "data": {
      "text/html": [
       "<div>\n",
       "<style scoped>\n",
       "    .dataframe tbody tr th:only-of-type {\n",
       "        vertical-align: middle;\n",
       "    }\n",
       "\n",
       "    .dataframe tbody tr th {\n",
       "        vertical-align: top;\n",
       "    }\n",
       "\n",
       "    .dataframe thead th {\n",
       "        text-align: right;\n",
       "    }\n",
       "</style>\n",
       "<table border=\"1\" class=\"dataframe\">\n",
       "  <thead>\n",
       "    <tr style=\"text-align: right;\">\n",
       "      <th></th>\n",
       "      <th>Col1</th>\n",
       "      <th>Col2</th>\n",
       "      <th>Col3</th>\n",
       "    </tr>\n",
       "  </thead>\n",
       "  <tbody>\n",
       "    <tr>\n",
       "      <th>a</th>\n",
       "      <td>1</td>\n",
       "      <td>4</td>\n",
       "      <td>Euler</td>\n",
       "    </tr>\n",
       "    <tr>\n",
       "      <th>b</th>\n",
       "      <td>-2</td>\n",
       "      <td>-3</td>\n",
       "      <td>A</td>\n",
       "    </tr>\n",
       "    <tr>\n",
       "      <th>c</th>\n",
       "      <td>3</td>\n",
       "      <td>7</td>\n",
       "      <td>A</td>\n",
       "    </tr>\n",
       "    <tr>\n",
       "      <th>d</th>\n",
       "      <td>1</td>\n",
       "      <td>8</td>\n",
       "      <td>Euler</td>\n",
       "    </tr>\n",
       "    <tr>\n",
       "      <th>e</th>\n",
       "      <td>5</td>\n",
       "      <td>9</td>\n",
       "      <td>A</td>\n",
       "    </tr>\n",
       "    <tr>\n",
       "      <th>f</th>\n",
       "      <td>6</td>\n",
       "      <td>5</td>\n",
       "      <td>A</td>\n",
       "    </tr>\n",
       "    <tr>\n",
       "      <th>g</th>\n",
       "      <td>1</td>\n",
       "      <td>6</td>\n",
       "      <td>RK4</td>\n",
       "    </tr>\n",
       "    <tr>\n",
       "      <th>h</th>\n",
       "      <td>-3</td>\n",
       "      <td>4</td>\n",
       "      <td>A</td>\n",
       "    </tr>\n",
       "    <tr>\n",
       "      <th>i</th>\n",
       "      <td>1</td>\n",
       "      <td>-2</td>\n",
       "      <td>Euler</td>\n",
       "    </tr>\n",
       "    <tr>\n",
       "      <th>j</th>\n",
       "      <td>1</td>\n",
       "      <td>2</td>\n",
       "      <td>RK4</td>\n",
       "    </tr>\n",
       "  </tbody>\n",
       "</table>\n",
       "</div>"
      ],
      "text/plain": [
       "   Col1  Col2   Col3\n",
       "a     1     4  Euler\n",
       "b    -2    -3      A\n",
       "c     3     7      A\n",
       "d     1     8  Euler\n",
       "e     5     9      A\n",
       "f     6     5      A\n",
       "g     1     6    RK4\n",
       "h    -3     4      A\n",
       "i     1    -2  Euler\n",
       "j     1     2    RK4"
      ]
     },
     "execution_count": 3,
     "metadata": {},
     "output_type": "execute_result"
    }
   ],
   "source": [
    "dic = {'Col1':[1, -2, 3, 1, 5, 6, 1, -3, 1, 1],\n",
    "      'Col2': [4, -3 , 7, 8, 9, 5, 6, 4, -2, 2],\n",
    "      'Col3': ['Euler', 'A', 'A', 'Euler', 'A', 'A', 'RK4', 'A', 'Euler', 'RK4']}\n",
    "\n",
    "df = pd.DataFrame(dic, index = ['a', 'b', 'c', 'd', 'e', 'f', 'g', 'h', 'i', 'j'])\n",
    "df"
   ]
  },
  {
   "cell_type": "markdown",
   "metadata": {
    "id": "wRX3Kwgmmka9"
   },
   "source": [
    "## 4.1 The characteristics of a dataframe"
   ]
  },
  {
   "cell_type": "code",
   "execution_count": null,
   "metadata": {
    "id": "9wpgMhF1mka-",
    "outputId": "32c6430a-7e38-4255-ce5e-d8c3dc97b134"
   },
   "outputs": [],
   "source": [
    "df.columns       #Get column names \n",
    "df.index         # Get dataframe index \n",
    "df.values        # Get values\n",
    "df.dtypes        # Get column datatypes\n",
    "df.shape\n",
    "\n"
   ]
  },
  {
   "cell_type": "markdown",
   "metadata": {
    "id": "A8sMzlarmka-"
   },
   "source": [
    "## 4.2 Access, slice and update the values of a dataframe\n",
    "To access, slice or update the value of a dataframe one can use the methods <b>loc or iloc</b>.\n",
    "\n",
    "<b>loc</b> gets rows (or columns) with particular labels from the index. <b>iloc</b> gets rows (or columns) at particular positions in the index (so it only takes integers). \n",
    "### 4.2.1 Selecting pandas data using “iloc”\n",
    "\n",
    "The <b>iloc</b> indexer for Pandas Dataframe is used for <b>integer-location based indexing / selection by position</b>.\n",
    "\n",
    "The iloc indexer syntax is \n",
    "$$\\text{data.iloc[<row selection>, <column selection>]},$$ \n",
    "\n",
    "which is sure to be a source of confusion for R users. <b>iloc</b> in pandas is used to select rows and columns by number, in the order that they appear in the data frame. You can imagine that each row has a row number from 0 to the total rows (<b>data.shape[0]</b>)  and <b>iloc[...]</b> allows selections based on these numbers. The same applies for columns (ranging from 0 to <b>data.shape[1]</b>)\n",
    "\n",
    "There are two “arguments” to iloc – a row selector, and a column selector.  For example:"
   ]
  },
  {
   "cell_type": "code",
   "execution_count": null,
   "metadata": {
    "id": "UsK_qKKDmka_",
    "outputId": "d75b3129-c6fa-4a68-aeeb-00ddfeee44ae"
   },
   "outputs": [],
   "source": [
    "data = pd.read_csv('https://s3-eu-west-1.amazonaws.com/shanebucket/downloads/uk-500.csv')\n",
    "# set a numeric id for use as an index for examples.\n",
    "np.random.seed(21)\n",
    "data['id'] = [np.random.randint(0,1000) for x in range(data.shape[0])]\n",
    " \n",
    "data.head(5)"
   ]
  },
  {
   "cell_type": "code",
   "execution_count": null,
   "metadata": {
    "id": "DJP9_fRimka_",
    "outputId": "903f95c0-ad7c-4c3b-fe91-6a605d368578"
   },
   "outputs": [],
   "source": [
    "# # Single selections using iloc and DataFrame\n",
    "# # Rows:\n",
    "data.iloc[0] # first row of data frame (Aleshia Tomkiewicz) - Note a Series data type output.\n",
    "data.iloc[1] # second row of data frame (Evan Zigomalas)\n",
    "data.iloc[-1] # last row of data frame (Mi Richan)\n",
    "# # Columns:\n",
    "data.iloc[:,0] # first column of data frame (first_name)\n",
    "data.iloc[:,1] # second column of data frame (last_name)\n",
    "data.iloc[:,-1] # last column of data frame (id)"
   ]
  },
  {
   "cell_type": "markdown",
   "metadata": {
    "id": "1BQkKU7amkbA"
   },
   "source": [
    "<b>Note that .iloc returns a Pandas Series when one row is selected, and a Pandas DataFrame when multiple rows are selected, or if any column in full is selected. To counter this, pass a single-valued list if you require DataFrame output.</b>\n"
   ]
  },
  {
   "cell_type": "code",
   "execution_count": null,
   "metadata": {
    "id": "nAYnYyaGmkbA",
    "outputId": "909f8c78-781a-4eaa-bd32-d3d7fe137b3e"
   },
   "outputs": [],
   "source": [
    "data.iloc[:,[-1]] # last column of data frame (id)"
   ]
  },
  {
   "cell_type": "markdown",
   "metadata": {
    "id": "k2Pt_NEqmkbB"
   },
   "source": [
    "Multiple columns and rows can be selected together using the <b>.iloc</b> indexer."
   ]
  },
  {
   "cell_type": "code",
   "execution_count": null,
   "metadata": {
    "id": "Fv_-a-41mkbB",
    "outputId": "753ade01-439f-44ba-c3de-a98418d7d7ea"
   },
   "outputs": [],
   "source": [
    "# # Multiple row and column selections using iloc and DataFrame\n",
    "data.iloc[0:5] # first five rows of dataframe\n",
    "data.iloc[:, 0:2] # first two columns of data frame with all rows\n",
    "data.iloc[[0,3,6,24], [0,5,6]] # 1st, 4th, 7th, 25th row + 1st 6th 7th columns.\n",
    "data.iloc[0:5, 5:8] # first 5 rows and 5th, 6th, 7th columns of data frame (county -> phone1).\n"
   ]
  },
  {
   "cell_type": "markdown",
   "metadata": {
    "id": "s17T5FSVmkbC"
   },
   "source": [
    "### 4.2.2. Selecting pandas data using “loc”\n",
    "\n",
    "The Pandas loc indexer can be used with DataFrames for two different use cases:\n",
    "\n",
    "    - Selecting rows by label/index\n",
    "    - Selecting rows with a boolean / conditional lookup\n",
    "The loc indexer is used with the same syntax as iloc: \n",
    "$$\\text{data.loc[<row selection>, <column selection>]}$$\n",
    "\n",
    "#### a. Label-based / Index-based indexing using .loc\n",
    "\n",
    "Selections using the loc method are based on the index of the data frame (if any). Where the index is set on a DataFrame, using <b>df.set_index()</b>, the .loc method directly selects based on index values of any rows. For example, setting the index of our test data frame to the persons “last_name”:"
   ]
  },
  {
   "cell_type": "code",
   "execution_count": 4,
   "metadata": {
    "colab": {
     "base_uri": "https://localhost:8080/",
     "height": 249
    },
    "executionInfo": {
     "elapsed": 122,
     "status": "error",
     "timestamp": 1632903185049,
     "user": {
      "displayName": "Hove Kouevi Assionvi",
      "photoUrl": "https://lh3.googleusercontent.com/a/default-user=s64",
      "userId": "02008510573291488408"
     },
     "user_tz": -120
    },
    "id": "I2LaP9r5mkbD",
    "outputId": "ad63d58e-7213-46c8-8e8a-97c89258ee5c"
   },
   "outputs": [
    {
     "name": "stdout",
     "output_type": "stream",
     "text": [
      "The history saving thread hit an unexpected error (OperationalError('database or disk is full')).History will not be written to the database.\n"
     ]
    },
    {
     "data": {
      "text/html": [
       "<div>\n",
       "<style scoped>\n",
       "    .dataframe tbody tr th:only-of-type {\n",
       "        vertical-align: middle;\n",
       "    }\n",
       "\n",
       "    .dataframe tbody tr th {\n",
       "        vertical-align: top;\n",
       "    }\n",
       "\n",
       "    .dataframe thead th {\n",
       "        text-align: right;\n",
       "    }\n",
       "</style>\n",
       "<table border=\"1\" class=\"dataframe\">\n",
       "  <thead>\n",
       "    <tr style=\"text-align: right;\">\n",
       "      <th></th>\n",
       "      <th>first_name</th>\n",
       "      <th>company_name</th>\n",
       "      <th>address</th>\n",
       "      <th>city</th>\n",
       "      <th>county</th>\n",
       "      <th>postal</th>\n",
       "      <th>phone1</th>\n",
       "      <th>phone2</th>\n",
       "      <th>email</th>\n",
       "      <th>web</th>\n",
       "      <th>id</th>\n",
       "    </tr>\n",
       "    <tr>\n",
       "      <th>last_name</th>\n",
       "      <th></th>\n",
       "      <th></th>\n",
       "      <th></th>\n",
       "      <th></th>\n",
       "      <th></th>\n",
       "      <th></th>\n",
       "      <th></th>\n",
       "      <th></th>\n",
       "      <th></th>\n",
       "      <th></th>\n",
       "      <th></th>\n",
       "    </tr>\n",
       "  </thead>\n",
       "  <tbody>\n",
       "    <tr>\n",
       "      <th>Tomkiewicz</th>\n",
       "      <td>Aleshia</td>\n",
       "      <td>Alan D Rosenburg Cpa Pc</td>\n",
       "      <td>14 Taylor St</td>\n",
       "      <td>St. Stephens Ward</td>\n",
       "      <td>Kent</td>\n",
       "      <td>CT2 7PP</td>\n",
       "      <td>01835-703597</td>\n",
       "      <td>01944-369967</td>\n",
       "      <td>atomkiewicz@hotmail.com</td>\n",
       "      <td>http://www.alandrosenburgcpapc.co.uk</td>\n",
       "      <td>969</td>\n",
       "    </tr>\n",
       "    <tr>\n",
       "      <th>Zigomalas</th>\n",
       "      <td>Evan</td>\n",
       "      <td>Cap Gemini America</td>\n",
       "      <td>5 Binney St</td>\n",
       "      <td>Abbey Ward</td>\n",
       "      <td>Buckinghamshire</td>\n",
       "      <td>HP11 2AX</td>\n",
       "      <td>01937-864715</td>\n",
       "      <td>01714-737668</td>\n",
       "      <td>evan.zigomalas@gmail.com</td>\n",
       "      <td>http://www.capgeminiamerica.co.uk</td>\n",
       "      <td>207</td>\n",
       "    </tr>\n",
       "    <tr>\n",
       "      <th>Andrade</th>\n",
       "      <td>France</td>\n",
       "      <td>Elliott, John W Esq</td>\n",
       "      <td>8 Moor Place</td>\n",
       "      <td>East Southbourne and Tuckton W</td>\n",
       "      <td>Bournemouth</td>\n",
       "      <td>BH6 3BE</td>\n",
       "      <td>01347-368222</td>\n",
       "      <td>01935-821636</td>\n",
       "      <td>france.andrade@hotmail.com</td>\n",
       "      <td>http://www.elliottjohnwesq.co.uk</td>\n",
       "      <td>824</td>\n",
       "    </tr>\n",
       "    <tr>\n",
       "      <th>Mcwalters</th>\n",
       "      <td>Ulysses</td>\n",
       "      <td>Mcmahan, Ben L</td>\n",
       "      <td>505 Exeter Rd</td>\n",
       "      <td>Hawerby cum Beesby</td>\n",
       "      <td>Lincolnshire</td>\n",
       "      <td>DN36 5RP</td>\n",
       "      <td>01912-771311</td>\n",
       "      <td>01302-601380</td>\n",
       "      <td>ulysses@hotmail.com</td>\n",
       "      <td>http://www.mcmahanbenl.co.uk</td>\n",
       "      <td>772</td>\n",
       "    </tr>\n",
       "    <tr>\n",
       "      <th>Veness</th>\n",
       "      <td>Tyisha</td>\n",
       "      <td>Champagne Room</td>\n",
       "      <td>5396 Forth Street</td>\n",
       "      <td>Greets Green and Lyng Ward</td>\n",
       "      <td>West Midlands</td>\n",
       "      <td>B70 9DT</td>\n",
       "      <td>01547-429341</td>\n",
       "      <td>01290-367248</td>\n",
       "      <td>tyisha.veness@hotmail.com</td>\n",
       "      <td>http://www.champagneroom.co.uk</td>\n",
       "      <td>48</td>\n",
       "    </tr>\n",
       "  </tbody>\n",
       "</table>\n",
       "</div>"
      ],
      "text/plain": [
       "           first_name             company_name            address  \\\n",
       "last_name                                                           \n",
       "Tomkiewicz    Aleshia  Alan D Rosenburg Cpa Pc       14 Taylor St   \n",
       "Zigomalas        Evan       Cap Gemini America        5 Binney St   \n",
       "Andrade        France      Elliott, John W Esq       8 Moor Place   \n",
       "Mcwalters     Ulysses           Mcmahan, Ben L      505 Exeter Rd   \n",
       "Veness         Tyisha           Champagne Room  5396 Forth Street   \n",
       "\n",
       "                                      city           county    postal  \\\n",
       "last_name                                                               \n",
       "Tomkiewicz               St. Stephens Ward             Kent   CT2 7PP   \n",
       "Zigomalas                       Abbey Ward  Buckinghamshire  HP11 2AX   \n",
       "Andrade     East Southbourne and Tuckton W      Bournemouth   BH6 3BE   \n",
       "Mcwalters               Hawerby cum Beesby     Lincolnshire  DN36 5RP   \n",
       "Veness          Greets Green and Lyng Ward    West Midlands   B70 9DT   \n",
       "\n",
       "                  phone1        phone2                       email  \\\n",
       "last_name                                                            \n",
       "Tomkiewicz  01835-703597  01944-369967     atomkiewicz@hotmail.com   \n",
       "Zigomalas   01937-864715  01714-737668    evan.zigomalas@gmail.com   \n",
       "Andrade     01347-368222  01935-821636  france.andrade@hotmail.com   \n",
       "Mcwalters   01912-771311  01302-601380         ulysses@hotmail.com   \n",
       "Veness      01547-429341  01290-367248   tyisha.veness@hotmail.com   \n",
       "\n",
       "                                             web   id  \n",
       "last_name                                              \n",
       "Tomkiewicz  http://www.alandrosenburgcpapc.co.uk  969  \n",
       "Zigomalas      http://www.capgeminiamerica.co.uk  207  \n",
       "Andrade         http://www.elliottjohnwesq.co.uk  824  \n",
       "Mcwalters           http://www.mcmahanbenl.co.uk  772  \n",
       "Veness            http://www.champagneroom.co.uk   48  "
      ]
     },
     "execution_count": 4,
     "metadata": {},
     "output_type": "execute_result"
    }
   ],
   "source": [
    "data = pd.read_csv('https://s3-eu-west-1.amazonaws.com/shanebucket/downloads/uk-500.csv')\n",
    "# set a numeric id for use as an index for examples.\n",
    "np.random.seed(21)\n",
    "data['id'] = [np.random.randint(0,1000) for x in range(data.shape[0])]\n",
    " \n",
    "data.set_index(\"last_name\", inplace=True)\n",
    "data.head()"
   ]
  },
  {
   "cell_type": "markdown",
   "metadata": {
    "id": "zKZQUpbRmkbD"
   },
   "source": [
    "Now with the index set, we can directly select rows for different “last_name” values using <b>.loc[<label>]</b>  – either singly, or in multiples. For example:"
   ]
  },
  {
   "cell_type": "code",
   "execution_count": 5,
   "metadata": {
    "executionInfo": {
     "elapsed": 14,
     "status": "aborted",
     "timestamp": 1632903185038,
     "user": {
      "displayName": "Hove Kouevi Assionvi",
      "photoUrl": "https://lh3.googleusercontent.com/a/default-user=s64",
      "userId": "02008510573291488408"
     },
     "user_tz": -120
    },
    "id": "Er1qBN_7mkbE"
   },
   "outputs": [
    {
     "data": {
      "text/html": [
       "<div>\n",
       "<style scoped>\n",
       "    .dataframe tbody tr th:only-of-type {\n",
       "        vertical-align: middle;\n",
       "    }\n",
       "\n",
       "    .dataframe tbody tr th {\n",
       "        vertical-align: top;\n",
       "    }\n",
       "\n",
       "    .dataframe thead th {\n",
       "        text-align: right;\n",
       "    }\n",
       "</style>\n",
       "<table border=\"1\" class=\"dataframe\">\n",
       "  <thead>\n",
       "    <tr style=\"text-align: right;\">\n",
       "      <th></th>\n",
       "      <th>first_name</th>\n",
       "      <th>company_name</th>\n",
       "      <th>address</th>\n",
       "      <th>city</th>\n",
       "      <th>county</th>\n",
       "      <th>postal</th>\n",
       "      <th>phone1</th>\n",
       "      <th>phone2</th>\n",
       "      <th>email</th>\n",
       "      <th>web</th>\n",
       "      <th>id</th>\n",
       "    </tr>\n",
       "    <tr>\n",
       "      <th>last_name</th>\n",
       "      <th></th>\n",
       "      <th></th>\n",
       "      <th></th>\n",
       "      <th></th>\n",
       "      <th></th>\n",
       "      <th></th>\n",
       "      <th></th>\n",
       "      <th></th>\n",
       "      <th></th>\n",
       "      <th></th>\n",
       "      <th></th>\n",
       "    </tr>\n",
       "  </thead>\n",
       "  <tbody>\n",
       "    <tr>\n",
       "      <th>Andrade</th>\n",
       "      <td>France</td>\n",
       "      <td>Elliott, John W Esq</td>\n",
       "      <td>8 Moor Place</td>\n",
       "      <td>East Southbourne and Tuckton W</td>\n",
       "      <td>Bournemouth</td>\n",
       "      <td>BH6 3BE</td>\n",
       "      <td>01347-368222</td>\n",
       "      <td>01935-821636</td>\n",
       "      <td>france.andrade@hotmail.com</td>\n",
       "      <td>http://www.elliottjohnwesq.co.uk</td>\n",
       "      <td>824</td>\n",
       "    </tr>\n",
       "    <tr>\n",
       "      <th>Veness</th>\n",
       "      <td>Tyisha</td>\n",
       "      <td>Champagne Room</td>\n",
       "      <td>5396 Forth Street</td>\n",
       "      <td>Greets Green and Lyng Ward</td>\n",
       "      <td>West Midlands</td>\n",
       "      <td>B70 9DT</td>\n",
       "      <td>01547-429341</td>\n",
       "      <td>01290-367248</td>\n",
       "      <td>tyisha.veness@hotmail.com</td>\n",
       "      <td>http://www.champagneroom.co.uk</td>\n",
       "      <td>48</td>\n",
       "    </tr>\n",
       "  </tbody>\n",
       "</table>\n",
       "</div>"
      ],
      "text/plain": [
       "          first_name         company_name            address  \\\n",
       "last_name                                                      \n",
       "Andrade       France  Elliott, John W Esq       8 Moor Place   \n",
       "Veness        Tyisha       Champagne Room  5396 Forth Street   \n",
       "\n",
       "                                     city         county   postal  \\\n",
       "last_name                                                           \n",
       "Andrade    East Southbourne and Tuckton W    Bournemouth  BH6 3BE   \n",
       "Veness         Greets Green and Lyng Ward  West Midlands  B70 9DT   \n",
       "\n",
       "                 phone1        phone2                       email  \\\n",
       "last_name                                                           \n",
       "Andrade    01347-368222  01935-821636  france.andrade@hotmail.com   \n",
       "Veness     01547-429341  01290-367248   tyisha.veness@hotmail.com   \n",
       "\n",
       "                                        web   id  \n",
       "last_name                                         \n",
       "Andrade    http://www.elliottjohnwesq.co.uk  824  \n",
       "Veness       http://www.champagneroom.co.uk   48  "
      ]
     },
     "execution_count": 5,
     "metadata": {},
     "output_type": "execute_result"
    }
   ],
   "source": [
    "#data.loc['Veness']\n",
    "data.loc[['Andrade','Veness']]"
   ]
  },
  {
   "cell_type": "markdown",
   "metadata": {
    "id": "jl_fElQSmkbF"
   },
   "source": [
    "<b> Selecting single or multiple rows using .loc index selections with pandas. Note that the first example returns a series, and the second returns a DataFrame. You can achieve a single-column DataFrame by passing a single-element list to the .loc operation.</b>"
   ]
  },
  {
   "cell_type": "code",
   "execution_count": null,
   "metadata": {
    "executionInfo": {
     "elapsed": 15,
     "status": "aborted",
     "timestamp": 1632903185040,
     "user": {
      "displayName": "Hove Kouevi Assionvi",
      "photoUrl": "https://lh3.googleusercontent.com/a/default-user=s64",
      "userId": "02008510573291488408"
     },
     "user_tz": -120
    },
    "id": "Me9kAqvkmkbF"
   },
   "outputs": [],
   "source": [
    "data.loc[['Veness']]"
   ]
  },
  {
   "cell_type": "markdown",
   "metadata": {
    "id": "88fW1c80mkbG"
   },
   "source": [
    "Select columns with <b>.loc</b> using the names of the columns."
   ]
  },
  {
   "cell_type": "code",
   "execution_count": 6,
   "metadata": {
    "executionInfo": {
     "elapsed": 17,
     "status": "aborted",
     "timestamp": 1632903185042,
     "user": {
      "displayName": "Hove Kouevi Assionvi",
      "photoUrl": "https://lh3.googleusercontent.com/a/default-user=s64",
      "userId": "02008510573291488408"
     },
     "user_tz": -120
    },
    "id": "foPFccTnmkbG"
   },
   "outputs": [
    {
     "data": {
      "text/html": [
       "<div>\n",
       "<style scoped>\n",
       "    .dataframe tbody tr th:only-of-type {\n",
       "        vertical-align: middle;\n",
       "    }\n",
       "\n",
       "    .dataframe tbody tr th {\n",
       "        vertical-align: top;\n",
       "    }\n",
       "\n",
       "    .dataframe thead th {\n",
       "        text-align: right;\n",
       "    }\n",
       "</style>\n",
       "<table border=\"1\" class=\"dataframe\">\n",
       "  <thead>\n",
       "    <tr style=\"text-align: right;\">\n",
       "      <th></th>\n",
       "      <th>first_name</th>\n",
       "      <th>address</th>\n",
       "      <th>city</th>\n",
       "    </tr>\n",
       "    <tr>\n",
       "      <th>last_name</th>\n",
       "      <th></th>\n",
       "      <th></th>\n",
       "      <th></th>\n",
       "    </tr>\n",
       "  </thead>\n",
       "  <tbody>\n",
       "    <tr>\n",
       "      <th>Andrade</th>\n",
       "      <td>France</td>\n",
       "      <td>8 Moor Place</td>\n",
       "      <td>East Southbourne and Tuckton W</td>\n",
       "    </tr>\n",
       "    <tr>\n",
       "      <th>Veness</th>\n",
       "      <td>Tyisha</td>\n",
       "      <td>5396 Forth Street</td>\n",
       "      <td>Greets Green and Lyng Ward</td>\n",
       "    </tr>\n",
       "  </tbody>\n",
       "</table>\n",
       "</div>"
      ],
      "text/plain": [
       "          first_name            address                            city\n",
       "last_name                                                              \n",
       "Andrade       France       8 Moor Place  East Southbourne and Tuckton W\n",
       "Veness        Tyisha  5396 Forth Street      Greets Green and Lyng Ward"
      ]
     },
     "execution_count": 6,
     "metadata": {},
     "output_type": "execute_result"
    }
   ],
   "source": [
    "data.loc[['Andrade','Veness'], ['first_name','address','city']]"
   ]
  },
  {
   "cell_type": "markdown",
   "metadata": {
    "id": "1B7WqdhGmkbH"
   },
   "source": [
    "When using the .loc indexer, columns are referred to by names using lists of strings, or “:” slices.\n",
    "\n",
    "You can select ranges of index labels – the selection <b>data.loc['Bruch':'Julio']</b> will return all rows in the data frame between the index entries for <b>'Bruch'</b> and <b>'Julio'</b>. The following examples should now make sense:"
   ]
  },
  {
   "cell_type": "code",
   "execution_count": null,
   "metadata": {
    "executionInfo": {
     "elapsed": 17,
     "status": "aborted",
     "timestamp": 1632903185043,
     "user": {
      "displayName": "Hove Kouevi Assionvi",
      "photoUrl": "https://lh3.googleusercontent.com/a/default-user=s64",
      "userId": "02008510573291488408"
     },
     "user_tz": -120
    },
    "id": "wLFF-xEDmkbH"
   },
   "outputs": [],
   "source": [
    "# Select rows with index values 'Andrade' and 'Veness', with all columns between 'city' and 'email'\n",
    "data.loc[['Andrade', 'Veness'], 'city':'email']\n",
    "# # Select all rows between 'Andrade' and 'Veness', with just 'first_name', 'address' and 'city' columns\n",
    "data.loc['Andrade':'Veness', ['first_name', 'address', 'city']]\n",
    "# # Select all rows between 'Andrade' and 'Veness', with all columns between 'city' and 'email' \n",
    "data.loc['Andrade':'Veness', 'city':'email']"
   ]
  },
  {
   "cell_type": "markdown",
   "metadata": {
    "id": "hOKe7x9PmkbH"
   },
   "source": [
    "Note that in the last example, <b>data.loc[207]</b> (the row with index value 207) is not equal to <b>data.iloc[207]</b> (the 207th row in the data)"
   ]
  },
  {
   "cell_type": "code",
   "execution_count": 7,
   "metadata": {
    "executionInfo": {
     "elapsed": 18,
     "status": "aborted",
     "timestamp": 1632903185045,
     "user": {
      "displayName": "Hove Kouevi Assionvi",
      "photoUrl": "https://lh3.googleusercontent.com/a/default-user=s64",
      "userId": "02008510573291488408"
     },
     "user_tz": -120
    },
    "id": "9J_lJrtRmkbI"
   },
   "outputs": [
    {
     "data": {
      "text/html": [
       "<div>\n",
       "<style scoped>\n",
       "    .dataframe tbody tr th:only-of-type {\n",
       "        vertical-align: middle;\n",
       "    }\n",
       "\n",
       "    .dataframe tbody tr th {\n",
       "        vertical-align: top;\n",
       "    }\n",
       "\n",
       "    .dataframe thead th {\n",
       "        text-align: right;\n",
       "    }\n",
       "</style>\n",
       "<table border=\"1\" class=\"dataframe\">\n",
       "  <thead>\n",
       "    <tr style=\"text-align: right;\">\n",
       "      <th></th>\n",
       "      <th>first_name</th>\n",
       "      <th>last_name</th>\n",
       "      <th>company_name</th>\n",
       "      <th>address</th>\n",
       "      <th>city</th>\n",
       "      <th>county</th>\n",
       "      <th>postal</th>\n",
       "      <th>phone1</th>\n",
       "      <th>phone2</th>\n",
       "      <th>email</th>\n",
       "      <th>web</th>\n",
       "    </tr>\n",
       "    <tr>\n",
       "      <th>id</th>\n",
       "      <th></th>\n",
       "      <th></th>\n",
       "      <th></th>\n",
       "      <th></th>\n",
       "      <th></th>\n",
       "      <th></th>\n",
       "      <th></th>\n",
       "      <th></th>\n",
       "      <th></th>\n",
       "      <th></th>\n",
       "      <th></th>\n",
       "    </tr>\n",
       "  </thead>\n",
       "  <tbody>\n",
       "    <tr>\n",
       "      <th>969</th>\n",
       "      <td>Aleshia</td>\n",
       "      <td>Tomkiewicz</td>\n",
       "      <td>Alan D Rosenburg Cpa Pc</td>\n",
       "      <td>14 Taylor St</td>\n",
       "      <td>St. Stephens Ward</td>\n",
       "      <td>Kent</td>\n",
       "      <td>CT2 7PP</td>\n",
       "      <td>01835-703597</td>\n",
       "      <td>01944-369967</td>\n",
       "      <td>atomkiewicz@hotmail.com</td>\n",
       "      <td>http://www.alandrosenburgcpapc.co.uk</td>\n",
       "    </tr>\n",
       "    <tr>\n",
       "      <th>207</th>\n",
       "      <td>Evan</td>\n",
       "      <td>Zigomalas</td>\n",
       "      <td>Cap Gemini America</td>\n",
       "      <td>5 Binney St</td>\n",
       "      <td>Abbey Ward</td>\n",
       "      <td>Buckinghamshire</td>\n",
       "      <td>HP11 2AX</td>\n",
       "      <td>01937-864715</td>\n",
       "      <td>01714-737668</td>\n",
       "      <td>evan.zigomalas@gmail.com</td>\n",
       "      <td>http://www.capgeminiamerica.co.uk</td>\n",
       "    </tr>\n",
       "    <tr>\n",
       "      <th>824</th>\n",
       "      <td>France</td>\n",
       "      <td>Andrade</td>\n",
       "      <td>Elliott, John W Esq</td>\n",
       "      <td>8 Moor Place</td>\n",
       "      <td>East Southbourne and Tuckton W</td>\n",
       "      <td>Bournemouth</td>\n",
       "      <td>BH6 3BE</td>\n",
       "      <td>01347-368222</td>\n",
       "      <td>01935-821636</td>\n",
       "      <td>france.andrade@hotmail.com</td>\n",
       "      <td>http://www.elliottjohnwesq.co.uk</td>\n",
       "    </tr>\n",
       "    <tr>\n",
       "      <th>772</th>\n",
       "      <td>Ulysses</td>\n",
       "      <td>Mcwalters</td>\n",
       "      <td>Mcmahan, Ben L</td>\n",
       "      <td>505 Exeter Rd</td>\n",
       "      <td>Hawerby cum Beesby</td>\n",
       "      <td>Lincolnshire</td>\n",
       "      <td>DN36 5RP</td>\n",
       "      <td>01912-771311</td>\n",
       "      <td>01302-601380</td>\n",
       "      <td>ulysses@hotmail.com</td>\n",
       "      <td>http://www.mcmahanbenl.co.uk</td>\n",
       "    </tr>\n",
       "    <tr>\n",
       "      <th>48</th>\n",
       "      <td>Tyisha</td>\n",
       "      <td>Veness</td>\n",
       "      <td>Champagne Room</td>\n",
       "      <td>5396 Forth Street</td>\n",
       "      <td>Greets Green and Lyng Ward</td>\n",
       "      <td>West Midlands</td>\n",
       "      <td>B70 9DT</td>\n",
       "      <td>01547-429341</td>\n",
       "      <td>01290-367248</td>\n",
       "      <td>tyisha.veness@hotmail.com</td>\n",
       "      <td>http://www.champagneroom.co.uk</td>\n",
       "    </tr>\n",
       "  </tbody>\n",
       "</table>\n",
       "</div>"
      ],
      "text/plain": [
       "    first_name   last_name             company_name            address  \\\n",
       "id                                                                       \n",
       "969    Aleshia  Tomkiewicz  Alan D Rosenburg Cpa Pc       14 Taylor St   \n",
       "207       Evan   Zigomalas       Cap Gemini America        5 Binney St   \n",
       "824     France     Andrade      Elliott, John W Esq       8 Moor Place   \n",
       "772    Ulysses   Mcwalters           Mcmahan, Ben L      505 Exeter Rd   \n",
       "48      Tyisha      Veness           Champagne Room  5396 Forth Street   \n",
       "\n",
       "                               city           county    postal        phone1  \\\n",
       "id                                                                             \n",
       "969               St. Stephens Ward             Kent   CT2 7PP  01835-703597   \n",
       "207                      Abbey Ward  Buckinghamshire  HP11 2AX  01937-864715   \n",
       "824  East Southbourne and Tuckton W      Bournemouth   BH6 3BE  01347-368222   \n",
       "772              Hawerby cum Beesby     Lincolnshire  DN36 5RP  01912-771311   \n",
       "48       Greets Green and Lyng Ward    West Midlands   B70 9DT  01547-429341   \n",
       "\n",
       "           phone2                       email  \\\n",
       "id                                              \n",
       "969  01944-369967     atomkiewicz@hotmail.com   \n",
       "207  01714-737668    evan.zigomalas@gmail.com   \n",
       "824  01935-821636  france.andrade@hotmail.com   \n",
       "772  01302-601380         ulysses@hotmail.com   \n",
       "48   01290-367248   tyisha.veness@hotmail.com   \n",
       "\n",
       "                                      web  \n",
       "id                                         \n",
       "969  http://www.alandrosenburgcpapc.co.uk  \n",
       "207     http://www.capgeminiamerica.co.uk  \n",
       "824      http://www.elliottjohnwesq.co.uk  \n",
       "772          http://www.mcmahanbenl.co.uk  \n",
       "48         http://www.champagneroom.co.uk  "
      ]
     },
     "execution_count": 7,
     "metadata": {},
     "output_type": "execute_result"
    }
   ],
   "source": [
    "data = pd.read_csv('https://s3-eu-west-1.amazonaws.com/shanebucket/downloads/uk-500.csv')\n",
    "# set a numeric id for use as an index for examples.\n",
    "np.random.seed(21)\n",
    "data['id'] = [np.random.randint(0,1000) for x in range(data.shape[0])]\n",
    " \n",
    "# Change the index to be based on the 'id' column\n",
    "data.set_index('id', inplace=True)\n",
    "data.head()"
   ]
  },
  {
   "cell_type": "code",
   "execution_count": 8,
   "metadata": {
    "executionInfo": {
     "elapsed": 20,
     "status": "aborted",
     "timestamp": 1632903185047,
     "user": {
      "displayName": "Hove Kouevi Assionvi",
      "photoUrl": "https://lh3.googleusercontent.com/a/default-user=s64",
      "userId": "02008510573291488408"
     },
     "user_tz": -120
    },
    "id": "uK8FZRvzmkbI"
   },
   "outputs": [
    {
     "name": "stdout",
     "output_type": "stream",
     "text": [
      "i =  207\n"
     ]
    },
    {
     "data": {
      "text/html": [
       "<div>\n",
       "<style scoped>\n",
       "    .dataframe tbody tr th:only-of-type {\n",
       "        vertical-align: middle;\n",
       "    }\n",
       "\n",
       "    .dataframe tbody tr th {\n",
       "        vertical-align: top;\n",
       "    }\n",
       "\n",
       "    .dataframe thead th {\n",
       "        text-align: right;\n",
       "    }\n",
       "</style>\n",
       "<table border=\"1\" class=\"dataframe\">\n",
       "  <thead>\n",
       "    <tr style=\"text-align: right;\">\n",
       "      <th></th>\n",
       "      <th>first_name</th>\n",
       "      <th>last_name</th>\n",
       "      <th>company_name</th>\n",
       "      <th>address</th>\n",
       "      <th>city</th>\n",
       "      <th>county</th>\n",
       "      <th>postal</th>\n",
       "      <th>phone1</th>\n",
       "      <th>phone2</th>\n",
       "      <th>email</th>\n",
       "      <th>web</th>\n",
       "    </tr>\n",
       "    <tr>\n",
       "      <th>id</th>\n",
       "      <th></th>\n",
       "      <th></th>\n",
       "      <th></th>\n",
       "      <th></th>\n",
       "      <th></th>\n",
       "      <th></th>\n",
       "      <th></th>\n",
       "      <th></th>\n",
       "      <th></th>\n",
       "      <th></th>\n",
       "      <th></th>\n",
       "    </tr>\n",
       "  </thead>\n",
       "  <tbody>\n",
       "    <tr>\n",
       "      <th>207</th>\n",
       "      <td>Evan</td>\n",
       "      <td>Zigomalas</td>\n",
       "      <td>Cap Gemini America</td>\n",
       "      <td>5 Binney St</td>\n",
       "      <td>Abbey Ward</td>\n",
       "      <td>Buckinghamshire</td>\n",
       "      <td>HP11 2AX</td>\n",
       "      <td>01937-864715</td>\n",
       "      <td>01714-737668</td>\n",
       "      <td>evan.zigomalas@gmail.com</td>\n",
       "      <td>http://www.capgeminiamerica.co.uk</td>\n",
       "    </tr>\n",
       "    <tr>\n",
       "      <th>207</th>\n",
       "      <td>Eva</td>\n",
       "      <td>Joulwan</td>\n",
       "      <td>Central Hrdwr &amp; Elec Corp</td>\n",
       "      <td>7 Lear Rd</td>\n",
       "      <td>Stroud</td>\n",
       "      <td>Hampshire</td>\n",
       "      <td>GU32 3PQ</td>\n",
       "      <td>01779-720349</td>\n",
       "      <td>01961-802899</td>\n",
       "      <td>eva.joulwan@gmail.com</td>\n",
       "      <td>http://www.centralhrdwreleccorp.co.uk</td>\n",
       "    </tr>\n",
       "    <tr>\n",
       "      <th>207</th>\n",
       "      <td>Allene</td>\n",
       "      <td>Burau</td>\n",
       "      <td>Allied Plastics</td>\n",
       "      <td>8 Barlow St #6</td>\n",
       "      <td>Barlow</td>\n",
       "      <td>Derbyshire</td>\n",
       "      <td>S18 7TH</td>\n",
       "      <td>01731-825958</td>\n",
       "      <td>01260-963065</td>\n",
       "      <td>allene.burau@hotmail.com</td>\n",
       "      <td>http://www.alliedplastics.co.uk</td>\n",
       "    </tr>\n",
       "  </tbody>\n",
       "</table>\n",
       "</div>"
      ],
      "text/plain": [
       "    first_name  last_name               company_name         address  \\\n",
       "id                                                                     \n",
       "207       Evan  Zigomalas         Cap Gemini America     5 Binney St   \n",
       "207        Eva    Joulwan  Central Hrdwr & Elec Corp       7 Lear Rd   \n",
       "207     Allene      Burau            Allied Plastics  8 Barlow St #6   \n",
       "\n",
       "           city           county    postal        phone1        phone2  \\\n",
       "id                                                                       \n",
       "207  Abbey Ward  Buckinghamshire  HP11 2AX  01937-864715  01714-737668   \n",
       "207      Stroud        Hampshire  GU32 3PQ  01779-720349  01961-802899   \n",
       "207      Barlow       Derbyshire   S18 7TH  01731-825958  01260-963065   \n",
       "\n",
       "                        email                                    web  \n",
       "id                                                                    \n",
       "207  evan.zigomalas@gmail.com      http://www.capgeminiamerica.co.uk  \n",
       "207     eva.joulwan@gmail.com  http://www.centralhrdwreleccorp.co.uk  \n",
       "207  allene.burau@hotmail.com        http://www.alliedplastics.co.uk  "
      ]
     },
     "execution_count": 8,
     "metadata": {},
     "output_type": "execute_result"
    }
   ],
   "source": [
    "i = data.index[1]\n",
    "print('i = ',i)\n",
    "#select the row with 'id' = i\n",
    "data.loc[[i]]"
   ]
  },
  {
   "cell_type": "code",
   "execution_count": null,
   "metadata": {
    "executionInfo": {
     "elapsed": 20,
     "status": "aborted",
     "timestamp": 1632903185048,
     "user": {
      "displayName": "Hove Kouevi Assionvi",
      "photoUrl": "https://lh3.googleusercontent.com/a/default-user=s64",
      "userId": "02008510573291488408"
     },
     "user_tz": -120
    },
    "id": "mYoHZxT2mkbJ"
   },
   "outputs": [],
   "source": [
    "data.iloc[[i]]"
   ]
  },
  {
   "cell_type": "markdown",
   "metadata": {
    "id": "KAUlW2fgmkbJ"
   },
   "source": [
    "### b. Boolean / Logical indexing using .loc\n",
    "\n",
    "Conditional selections with boolean arrays using $\\text{data.loc[<selection>]}$ is the most common method that I use with Pandas DataFrames. With boolean indexing or logical selection, you pass an array or Series of True/False values to the <b>.loc</b> indexer to select the rows where your Series has True values.\n",
    "\n",
    "In most use cases, you will make selections based on the values of different columns in your data set.\n",
    "\n",
    "For example, the statement $$\\text{data[‘first_name’] == ‘Antonio’]}$$ produces a Pandas Series with a True/False value for every row in the ‘data’ DataFrame, where there are “True” values for the rows where the first_name is “Antonio”. These type of boolean arrays can be passed directly to the <b>.loc</b> indexer as so:"
   ]
  },
  {
   "cell_type": "code",
   "execution_count": null,
   "metadata": {
    "id": "TLaMhRhSmkbK",
    "outputId": "aee5e9c0-df29-4cac-951a-126334c00fe4"
   },
   "outputs": [],
   "source": [
    "data = pd.read_csv('https://s3-eu-west-1.amazonaws.com/shanebucket/downloads/uk-500.csv')\n",
    "# set a numeric id for use as an index for examples.\n",
    "np.random.seed(21)\n",
    "data['id'] = [np.random.randint(0,1000) for x in range(data.shape[0])]\n",
    " \n",
    "data.set_index(\"last_name\", inplace=True)\n",
    "\n",
    "data.loc[data['first_name'] == 'Antonio']\n"
   ]
  },
  {
   "cell_type": "markdown",
   "metadata": {
    "id": "joaSA6UhmkbK"
   },
   "source": [
    "As before, a second argument can be passed to .loc to select particular columns out of the data frame. Again, columns are referred to by name for the loc indexer and can be a single string, a list of columns, or a slice “:” operation."
   ]
  },
  {
   "cell_type": "code",
   "execution_count": null,
   "metadata": {
    "id": "DnCTxyv3mkbL",
    "outputId": "5d4dc036-174f-4008-cfc6-b06a93d5c9a2"
   },
   "outputs": [],
   "source": [
    "data.loc[data['first_name'] == 'Antonio', ['email', 'address','city']]"
   ]
  },
  {
   "cell_type": "markdown",
   "metadata": {
    "id": "fg0vESjLmkbL"
   },
   "source": [
    "Note that when selecting columns, if one column only is selected, the .loc operator returns a Series. For a single column DataFrame, use a one-element list to keep the DataFrame format, for example:"
   ]
  },
  {
   "cell_type": "code",
   "execution_count": null,
   "metadata": {
    "id": "QUW--BivmkbL",
    "outputId": "75523343-ff90-401d-aa20-d5b65a13c180"
   },
   "outputs": [],
   "source": [
    "data.loc[data['first_name'] == 'Antonio', 'email']\n",
    "data.loc[data['first_name'] == 'Antonio', ['email']]"
   ]
  },
  {
   "cell_type": "markdown",
   "metadata": {
    "id": "Mjq4H4NgmkbM"
   },
   "source": [
    "# 5. Basic Operations"
   ]
  },
  {
   "cell_type": "markdown",
   "metadata": {
    "id": "5b5gPiqKmkbM"
   },
   "source": [
    "## 5.1 Sorting values in the DataFrame"
   ]
  },
  {
   "cell_type": "code",
   "execution_count": null,
   "metadata": {
    "id": "12r_3pPCmkbN",
    "outputId": "19866514-6252-4d39-ee08-7cb063f5a9da",
    "scrolled": true
   },
   "outputs": [],
   "source": [
    "dic = {'Col1':[1, -2, 3, 1, 5, 6, 1, -3, 1, 1],\n",
    "      'Col2': [4, -3 , 7, 8, 9, 5, 6, 4, -2, 2],\n",
    "      'Col3': ['Euler', 'A', 'A', 'Euler', 'A', 'A', 'RK4', 'A', 'Euler', 'RK4']}\n",
    "\n",
    "df = pd.DataFrame(dic, index = ['a', 'b', 'c', 'd', 'e', 'f', 'g', 'h', 'i', 'j'])\n",
    "\n",
    "# #=============================================================\n",
    "# #Create a new columns called 'X' and 'Y' in the dataframe df\n",
    "df['X'] = ['A', 'A', 'A', 'A', 'A', 'B', 'B', 'B', 'B', 'B']\n",
    "df['Y'] = ['A', 'B', 'A', 'B', 'A', 'B', 'A', 'B', 'A', 'B']\n",
    "# #============================================================\n",
    "# df\n",
    "df.loc['z'] = [1,2,3,4,5]\n",
    "# #df\n",
    "\n",
    "df\n"
   ]
  },
  {
   "cell_type": "code",
   "execution_count": null,
   "metadata": {
    "id": "z6n9b9gnmkbN",
    "outputId": "d1b1facc-3f0b-4c4f-d733-c2d3630563c1"
   },
   "outputs": [],
   "source": [
    "df.sort_values(by =['Col1'],ascending=[True], inplace=True)# Sort DataFrame \n",
    "df.sort_values(by =['Col1', 'Col2'],ascending=[False,False], inplace=True)# Sort DataFrame\n",
    "df"
   ]
  },
  {
   "cell_type": "markdown",
   "metadata": {
    "id": "IkpyQ79pmkbO"
   },
   "source": [
    "## 5.2. Replace NaN Values in Pandas DataFrame\n",
    "\n",
    "Depending on the scenario, you may use either of the 4 methods below in order to replace NaN values with zeros in Pandas DataFrame:\n",
    "\n",
    "let us consider the following dataframe"
   ]
  },
  {
   "cell_type": "code",
   "execution_count": null,
   "metadata": {
    "id": "30sFH2dvmkbO",
    "outputId": "3f25df5a-3d1a-47a0-b2cb-eb07b97e1caa"
   },
   "outputs": [],
   "source": [
    "data2 = {'GradeS1': pd.Series(data = [70,50,67,84,98], \n",
    "                              index = ['Maths', 'Art', 'Sport', 'Biology', 'Physics']),\n",
    "         'GradeS2': pd.Series(data = [90,70,88,78,76,77,87], \n",
    "                              index = ['Maths', 'Biology', 'Physics', 'chemistry', 'Economics', 'Finance', 'Geology']),\n",
    "        'GradeS3': pd.Series(data = [69,75,73,87], \n",
    "                              index = ['Maths', 'chemistry', 'Economics', 'Geology']),\n",
    "        'GradeS4': pd.Series(data = [90,70,88,78,76,77,87,98,90], \n",
    "                              index = ['Maths', 'Biology', 'Physics', 'chemistry', 'Economics', 'Finance', 'Geology','Art', 'Sport'])}\n",
    "data2 = pd.DataFrame(data2)\n",
    "data2"
   ]
  },
  {
   "cell_type": "markdown",
   "metadata": {
    "id": "pGRNimpSmkbP"
   },
   "source": [
    "1. For a single column or entire datafame using NumPy: "
   ]
  },
  {
   "cell_type": "code",
   "execution_count": null,
   "metadata": {
    "id": "EJJkUspVmkbP",
    "outputId": "cd6e7fd5-1db5-4b39-a298-5a94de465d3f"
   },
   "outputs": [],
   "source": [
    "#Make a deep copy of the data2\n",
    "data3 = data2.copy()\n",
    "#Replace NaN by 3 in the column 'GradeS2' of the dataframe using numpy\n",
    "data3['GradeS2'].replace(np.nan,30, inplace=True)\n",
    "data3"
   ]
  },
  {
   "cell_type": "code",
   "execution_count": null,
   "metadata": {
    "id": "yvpOzQ_vmkbQ",
    "outputId": "c7a1559f-6580-4284-b550-c5a2745be58a"
   },
   "outputs": [],
   "source": [
    "#Make a deep copy of the data2\n",
    "data3 = data2.copy()\n",
    "#Replace NaN by 3 in the entire dataframe using numpy\n",
    "data3.replace(np.nan,30, inplace=True)\n",
    "data3"
   ]
  },
  {
   "cell_type": "markdown",
   "metadata": {
    "id": "FE9vOLSImkbR"
   },
   "source": [
    "2. For a single column or entire datafame using Pandas: "
   ]
  },
  {
   "cell_type": "code",
   "execution_count": null,
   "metadata": {
    "id": "R33qyZdxmkbS",
    "outputId": "e6235291-036f-4edd-dd67-90d18140d1d5"
   },
   "outputs": [],
   "source": [
    "#Make a deep copy of the data2\n",
    "data3 = data2.copy()\n",
    "#Replace NaN by 3 in the column 'GradeS2' using Pandas\n",
    "data3['GradeS2'].fillna(30, inplace=True)\n",
    "data3"
   ]
  },
  {
   "cell_type": "code",
   "execution_count": null,
   "metadata": {
    "id": "B34N8cZcmkbT",
    "outputId": "ffd380f6-bf26-4668-ebfb-f449d9bb08ba"
   },
   "outputs": [],
   "source": [
    "#Make a deep copy of the data2\n",
    "data3 = data2.copy()\n",
    "#Replace NaN by 3 in the entire dataframe using Pandas\n",
    "data3.fillna(3, inplace=True)\n",
    "data3"
   ]
  },
  {
   "cell_type": "markdown",
   "metadata": {
    "id": "16agXqO2mkbT"
   },
   "source": [
    "Replace missing values with last valid observation (useful in time series\n",
    "data). For example, temperature does not change drastically compared to previous observation. So better approach is to fill NA is to forward or backward fill. There are mainly two methods available"
   ]
  },
  {
   "cell_type": "code",
   "execution_count": null,
   "metadata": {
    "id": "nHNb-2x9mkbU",
    "outputId": "42dc1b9e-5a65-4a17-a7c2-8c8a88f85b84"
   },
   "outputs": [],
   "source": [
    "#Make a deep copy of the data2\n",
    "data3 = data2.copy()\n",
    "#Replace NaN by next value in the column 'GradeS1' of the dataframe using Pandas\n",
    "data3['GradeS1'].fillna(method= 'bfill', inplace=True)\n",
    "##Note that the last NaN was not replaced because there is no next value for him\n",
    "\n",
    "\n",
    "##Replace NaN by next value in the column 'GradeS1' of the dataframe using Pandas\n",
    "data3.fillna(method= 'bfill', inplace=True)\n",
    "data3"
   ]
  },
  {
   "cell_type": "code",
   "execution_count": null,
   "metadata": {
    "id": "9H_dJcfCmkbV",
    "outputId": "3c760582-359f-4d2f-bb1c-10fec96ca549"
   },
   "outputs": [],
   "source": [
    "#Make a deep copy of the data2\n",
    "data3 = data2.copy()\n",
    "#Replace NaN by previous value in the column 'GradeS2' of the dataframe using Pandas\n",
    "data3['GradeS2'].fillna(method= 'ffill', inplace=True)\n",
    "##Note that the first NaN was not replaced because there is no next value for him\n",
    "\n",
    "\n",
    "##Replace NaN by previous value in the entire dataframe using Pandas\n",
    "data3.fillna(method= 'ffill', inplace=True)\n",
    "data3"
   ]
  },
  {
   "cell_type": "markdown",
   "metadata": {
    "id": "TgSsEsB_mkbW"
   },
   "source": [
    "## 5.3. Delete NaN Values with Zeros in Pandas DataFrame"
   ]
  },
  {
   "cell_type": "code",
   "execution_count": null,
   "metadata": {
    "id": "557RWgwTmkbW",
    "outputId": "d00a157e-cf45-4cbf-aeb1-8b32a02a1f62",
    "scrolled": true
   },
   "outputs": [],
   "source": [
    "#Make a deep copy of the data2\n",
    "data3 = data2.copy()\n",
    "#Delete all rows that contain NaN\n",
    "data3.dropna(axis=0, inplace=True)\n",
    "data3"
   ]
  },
  {
   "cell_type": "code",
   "execution_count": null,
   "metadata": {
    "id": "jPHd5J7KmkbX",
    "outputId": "e917ad09-114d-471f-fed4-250fc066487f"
   },
   "outputs": [],
   "source": [
    "#Make a deep copy of the data2\n",
    "data3 = data2.copy()\n",
    "#Delete all columns that contain NaN\n",
    "data3.dropna(axis=1, inplace=True)\n",
    "data3"
   ]
  },
  {
   "cell_type": "markdown",
   "metadata": {
    "id": "_I_ElenamkbY"
   },
   "source": [
    "## 5.4. Grouping\n",
    "Grouping involves one or more of the following steps:\n",
    "- Splitting the data into groups based on some criteria,\n",
    "- Applying a function to each group independently,\n",
    "- Combining the results into a data structure\n",
    "\n",
    "Let us consider the following data"
   ]
  },
  {
   "cell_type": "code",
   "execution_count": null,
   "metadata": {
    "id": "EkrQ-xE0mkbZ",
    "outputId": "a02cf3db-0efc-4dac-d8f0-66db8ab2d434"
   },
   "outputs": [],
   "source": [
    "df = pd.DataFrame({'Name' : ['jack', 'jane', 'jack', 'jane', 'jack', 'jane','jack', 'jane'],\n",
    "                   'State' : ['SFO', 'SFO', 'NYK', 'CA', 'NYK', 'NYK','SFO', 'CA'],\n",
    "                   'Grade':['A','A','B','A','C','B','C','A'],\n",
    "                   'Age' : np.random.randint(24, 50, size=8)})\n",
    "df"
   ]
  },
  {
   "cell_type": "markdown",
   "metadata": {
    "id": "rA6mZ75NmkbZ"
   },
   "source": [
    "Find max age by Name / State"
   ]
  },
  {
   "cell_type": "code",
   "execution_count": null,
   "metadata": {
    "id": "ey3gT7zymkba",
    "outputId": "d20bbe25-8fee-402e-832f-cf5b1248e184"
   },
   "outputs": [],
   "source": [
    "df.groupby(['Name','State']).max()"
   ]
  },
  {
   "cell_type": "markdown",
   "metadata": {
    "id": "1xppcHfrmkba"
   },
   "source": [
    "# 6. Plot of a dataframe"
   ]
  },
  {
   "cell_type": "code",
   "execution_count": null,
   "metadata": {
    "id": "zxcRQBPVmkbb",
    "outputId": "46ccc291-5912-4a72-e5ba-a1a15dc936ce"
   },
   "outputs": [],
   "source": [
    "data2"
   ]
  },
  {
   "cell_type": "code",
   "execution_count": null,
   "metadata": {
    "id": "J5iTv09Imkbb"
   },
   "outputs": [],
   "source": []
  },
  {
   "cell_type": "code",
   "execution_count": null,
   "metadata": {
    "id": "7ExT8Muvmkbc",
    "outputId": "33b32e70-300c-4df1-ddca-e9377638a35d"
   },
   "outputs": [],
   "source": [
    "import matplotlib.pyplot as plt\n",
    "#data2.plot?\n",
    "data2.plot(figsize=(10,10), kind= 'bar' )\n",
    "plt.show()"
   ]
  },
  {
   "cell_type": "code",
   "execution_count": null,
   "metadata": {
    "id": "fkCIDkQUmkbc"
   },
   "outputs": [],
   "source": [
    "data2.plot?"
   ]
  }
 ],
 "metadata": {
  "colab": {
   "name": "Pandas_Python for Data Science.ipynb",
   "provenance": []
  },
  "kernelspec": {
   "display_name": "Python 3",
   "language": "python",
   "name": "python3"
  },
  "language_info": {
   "codemirror_mode": {
    "name": "ipython",
    "version": 3
   },
   "file_extension": ".py",
   "mimetype": "text/x-python",
   "name": "python",
   "nbconvert_exporter": "python",
   "pygments_lexer": "ipython3",
   "version": "3.8.3"
  }
 },
 "nbformat": 4,
 "nbformat_minor": 1
}
